{
 "cells": [
  {
   "cell_type": "code",
   "execution_count": 2,
   "id": "cd3bb6a4",
   "metadata": {},
   "outputs": [],
   "source": [
    "import numpy as np\n",
    "import pandas as pd"
   ]
  },
  {
   "cell_type": "code",
   "execution_count": 168,
   "id": "0141edde",
   "metadata": {},
   "outputs": [
    {
     "name": "stdout",
     "output_type": "stream",
     "text": [
      "n = 3\n",
      "n_combs = 9\n",
      "(6, 2) (3, 2) (3, 2)\n",
      "(5000, 2) (1000, 2) (1000, 2)\n",
      "------------------------------\n",
      "n = 10\n",
      "n_combs = 100\n",
      "(70, 2) (30, 2) (30, 2)\n",
      "(50000, 2) (10000, 2) (10000, 2)\n",
      "------------------------------\n",
      "n = 50\n",
      "n_combs = 2500\n",
      "(1750, 2) (750, 2) (750, 2)\n",
      "(500000, 2) (100000, 2) (100000, 2)\n",
      "------------------------------\n",
      "n = 100\n",
      "n_combs = 10000\n",
      "(7000, 2) (3000, 2) (3000, 2)\n",
      "(500000, 2) (100000, 2) (100000, 2)\n",
      "------------------------------\n"
     ]
    }
   ],
   "source": [
    "n_vals = [3,10,50,100]\n",
    "n_samples = [(5000, 1000), (50000,10000), (500000,100000), (500000,100000)]\n",
    "\n",
    "for N,j in zip(n_vals, n_samples):\n",
    "    \n",
    "    print('n =', N)\n",
    "\n",
    "    # load data \n",
    "    # each row is a possible combination of integer N including 0\n",
    "    data = np.loadtxt(\"EGG_test/data/input_N\"+str(N)+\".txt\")\n",
    "    data = data[np.argsort(data[:,0])]\n",
    "    size = data.shape[0]\n",
    "    print('n_combs =', size)\n",
    "\n",
    "    # split data into train and test\n",
    "    train_size = int(size*.7)\n",
    "    X_train = data[:train_size,:]\n",
    "    \n",
    "    # 1st split with completely new combination of N in test set\n",
    "    X_test_unq = data[train_size:,:]\n",
    "\n",
    "    # 2nd split with mix of existing and new combination of N in test set\n",
    "    X_test = data[np.random.randint(size, size=(size - train_size)),:]\n",
    "    print(X_train.shape, X_test_unq.shape, X_test.shape)\n",
    "    \n",
    "    # create larger sample (with replacement) for training and validation\n",
    "    X_train = X_train[np.random.randint(train_size, size=j[0]),:]\n",
    "    X_test_unq = X_test_unq[np.random.randint(size - train_size, size=j[1]),:]\n",
    "    X_test = X_test[np.random.randint(size - train_size, size=j[1]),:]\n",
    "    print(X_train.shape, X_test_unq.shape, X_test.shape)\n",
    "    print('-'*30)\n",
    "    \n",
    "    np.savetxt('EGG_test/data/train'+str(N)+'.txt', np.asarray(X_train), delimiter=' ', fmt='%i')\n",
    "    np.savetxt('EGG_test/data/test'+str(N)+'.txt', np.asarray(X_test), delimiter=' ', fmt='%i')\n",
    "    np.savetxt('EGG_test/data/test_unq'+str(N)+'.txt', np.asarray(X_test_unq), delimiter=' ', fmt='%i')"
   ]
  },
  {
   "cell_type": "code",
   "execution_count": null,
   "id": "1370360d",
   "metadata": {},
   "outputs": [],
   "source": []
  }
 ],
 "metadata": {
  "kernelspec": {
   "display_name": "tensor",
   "language": "python",
   "name": "tensor"
  },
  "language_info": {
   "codemirror_mode": {
    "name": "ipython",
    "version": 3
   },
   "file_extension": ".py",
   "mimetype": "text/x-python",
   "name": "python",
   "nbconvert_exporter": "python",
   "pygments_lexer": "ipython3",
   "version": "3.7.11"
  }
 },
 "nbformat": 4,
 "nbformat_minor": 5
}
